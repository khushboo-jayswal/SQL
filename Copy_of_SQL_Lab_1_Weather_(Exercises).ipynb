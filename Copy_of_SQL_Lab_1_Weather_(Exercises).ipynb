{
  "nbformat": 4,
  "nbformat_minor": 0,
  "metadata": {
    "colab": {
      "provenance": [],
      "toc_visible": true,
      "include_colab_link": true
    },
    "kernelspec": {
      "name": "python3",
      "display_name": "Python 3"
    },
    "language_info": {
      "name": "python"
    }
  },
  "cells": [
    {
      "cell_type": "markdown",
      "metadata": {
        "id": "view-in-github",
        "colab_type": "text"
      },
      "source": [
        "<a href=\"https://colab.research.google.com/github/khushboo-jayswal/SQL/blob/main/Copy_of_SQL_Lab_1_Weather_(Exercises).ipynb\" target=\"_parent\"><img src=\"https://colab.research.google.com/assets/colab-badge.svg\" alt=\"Open In Colab\"/></a>"
      ]
    },
    {
      "cell_type": "markdown",
      "source": [
        "# Lab 1 Setting up the Weather database\n",
        "\n",
        "We need to download the database first by using the following code in a *code block* and also upgrade the version of the SQL database (SQLite).\n",
        "We can run the code by pressing the \"▶\" play button. This needs to be run once at the begining of the session.\n",
        "\n",
        "\n"
      ],
      "metadata": {
        "id": "OCtTWGYkkl5j"
      }
    },
    {
      "cell_type": "code",
      "execution_count": null,
      "metadata": {
        "id": "802CfVXHZ36C"
      },
      "outputs": [],
      "source": [
        "!wget https://essexuniversity.box.com/shared/static/c3vee0c2iclzc9wouhblr9jp5v7lix0o.db -O weather.db &> /dev/null"
      ]
    },
    {
      "cell_type": "markdown",
      "source": [
        "In order to issue SQL commands we will use the SQLite capabilities of Google Colab by loading the SQL extension with the statement `%load_ext sql`:\n",
        "\n",
        "\n",
        "\n",
        "\n",
        "\n"
      ],
      "metadata": {
        "id": "qR9pTQP_lMek"
      }
    },
    {
      "cell_type": "code",
      "source": [
        "# now we can use the magic extension to connect to our SQLite DB\n",
        "# use %sql to write an inline SQL command\n",
        "%load_ext sql\n",
        "# Loads the downloaded database (weather data) inthis case\n",
        "%sql sqlite:///weather.db\n",
        "# Shows the sqlite version\n",
        "%sql SELECT sqlite_version();"
      ],
      "metadata": {
        "id": "PJ4DfKFAl61U",
        "outputId": "5a32e3dc-bd3b-4693-8054-fb24cc54114a",
        "colab": {
          "base_uri": "https://localhost:8080/",
          "height": 96
        }
      },
      "execution_count": null,
      "outputs": [
        {
          "output_type": "stream",
          "name": "stdout",
          "text": [
            " * sqlite:///weather.db\n",
            "Done.\n"
          ]
        },
        {
          "output_type": "execute_result",
          "data": {
            "text/plain": [
              "[('3.37.2',)]"
            ],
            "text/html": [
              "<table>\n",
              "    <thead>\n",
              "        <tr>\n",
              "            <th>sqlite_version()</th>\n",
              "        </tr>\n",
              "    </thead>\n",
              "    <tbody>\n",
              "        <tr>\n",
              "            <td>3.37.2</td>\n",
              "        </tr>\n",
              "    </tbody>\n",
              "</table>"
            ]
          },
          "metadata": {},
          "execution_count": 2
        }
      ]
    },
    {
      "cell_type": "markdown",
      "source": [
        "Then we can run SQL queries by using:\n",
        "- the `%sql` expression for a single line query\n",
        "- the `%%sql` expression for a multiple line query"
      ],
      "metadata": {
        "id": "4QfrX3cUfAIJ"
      }
    },
    {
      "cell_type": "markdown",
      "source": [
        "## Display all tables\n",
        "As an example we cal display all the tabled loadded in the database by using the\n",
        "following statement:"
      ],
      "metadata": {
        "id": "xtxPVOqAmbc_"
      }
    },
    {
      "cell_type": "code",
      "source": [
        "# Display all the table names\n",
        "# omiting the ones starting with \"sqlite_\" (internal not to be used directly)\n",
        "%%sql\n",
        "SELECT name FROM sqlite_master WHERE type='table' AND name NOT LIKE 'sqlite_%';"
      ],
      "metadata": {
        "id": "-KcRTZ-omQ5b",
        "outputId": "f56a4fc8-3aee-4d7e-c015-973386c295f6",
        "colab": {
          "base_uri": "https://localhost:8080/",
          "height": 310
        }
      },
      "execution_count": null,
      "outputs": [
        {
          "output_type": "stream",
          "name": "stdout",
          "text": [
            " * sqlite:///weather.db\n",
            "Done.\n"
          ]
        },
        {
          "output_type": "execute_result",
          "data": {
            "text/plain": [
              "[('cat_locations',),\n",
              " ('cat_postcode_latlong',),\n",
              " ('cat_regions',),\n",
              " ('country',),\n",
              " ('metoffice_dailyweatherdata',),\n",
              " ('metoffice_forecast_text',),\n",
              " ('postcodelatlng',),\n",
              " ('tempW',),\n",
              " ('timezone',),\n",
              " ('weatherType',),\n",
              " ('zones',)]"
            ],
            "text/html": [
              "<table>\n",
              "    <thead>\n",
              "        <tr>\n",
              "            <th>name</th>\n",
              "        </tr>\n",
              "    </thead>\n",
              "    <tbody>\n",
              "        <tr>\n",
              "            <td>cat_locations</td>\n",
              "        </tr>\n",
              "        <tr>\n",
              "            <td>cat_postcode_latlong</td>\n",
              "        </tr>\n",
              "        <tr>\n",
              "            <td>cat_regions</td>\n",
              "        </tr>\n",
              "        <tr>\n",
              "            <td>country</td>\n",
              "        </tr>\n",
              "        <tr>\n",
              "            <td>metoffice_dailyweatherdata</td>\n",
              "        </tr>\n",
              "        <tr>\n",
              "            <td>metoffice_forecast_text</td>\n",
              "        </tr>\n",
              "        <tr>\n",
              "            <td>postcodelatlng</td>\n",
              "        </tr>\n",
              "        <tr>\n",
              "            <td>tempW</td>\n",
              "        </tr>\n",
              "        <tr>\n",
              "            <td>timezone</td>\n",
              "        </tr>\n",
              "        <tr>\n",
              "            <td>weatherType</td>\n",
              "        </tr>\n",
              "        <tr>\n",
              "            <td>zones</td>\n",
              "        </tr>\n",
              "    </tbody>\n",
              "</table>"
            ]
          },
          "metadata": {},
          "execution_count": 3
        }
      ]
    },
    {
      "cell_type": "markdown",
      "source": [
        "# Exercise PART I\n",
        "MySQL can open multiple databases so we need to specify the name of the database (e.g. `DATABASE_NAME.TABLE_NAME`).\n",
        "But `SQLite` (the SQL database that we use in this notebook) opens only one database at a time and we don't use the name of the database. As an example the table `cat_regions` is:\n",
        "- **MySQL**: `weather_db.cat_regions`\n",
        "- **SQLite**: `cat_regions`"
      ],
      "metadata": {
        "id": "PrM6f9-To_Rb"
      }
    },
    {
      "cell_type": "markdown",
      "source": [
        "## Exercise 1\n",
        "Using the CREATE TABLE statement, create a table called `client_data` with the\n",
        "following schema:\n",
        "\n",
        "Field       | Data Type  | Constaint\n",
        "------------|------------|-------------------\n",
        "ID          | integer    | Primary key\n",
        "First_name  | varchar 40 | NOT NULL\n",
        "Last_name   | varchar 40 | None\n",
        "Nationality | varchar 40 | None\n",
        "Age         | float      | greather than 18"
      ],
      "metadata": {
        "id": "ze018k6GnSzR"
      }
    },
    {
      "cell_type": "code",
      "source": [
        "%%sql\n",
        "CREATE TABLE client_data (\n",
        "ID int PRIMARY KEY,\n",
        "first_name varchar(40) NOT NULL,\n",
        "last_name varchar(40) NOT NULL,\n",
        "nationality varchar(40),\n",
        "Age decimal(6) CHECK( Age>18)\n",
        ");"
      ],
      "metadata": {
        "id": "iZlIUQtjoDL9",
        "colab": {
          "base_uri": "https://localhost:8080/"
        },
        "outputId": "edcb46b3-5df0-47d4-cb28-41bc1c7f0bc6"
      },
      "execution_count": null,
      "outputs": [
        {
          "output_type": "stream",
          "name": "stdout",
          "text": [
            " * sqlite:///weather.db\n",
            "Done.\n"
          ]
        },
        {
          "output_type": "execute_result",
          "data": {
            "text/plain": [
              "[]"
            ]
          },
          "metadata": {},
          "execution_count": 4
        }
      ]
    },
    {
      "cell_type": "markdown",
      "source": [
        "## Exercise 2\n",
        "Insert the following records in the data base using the `INSERT` statement:\n",
        "\n",
        "ID\t| first_name\t| last_name\t| nationality\t| Age\n",
        "----|-------------|-----------|-------------|------\n",
        "1\t  | John\t      | S\t        | British\t    |None\n",
        "2\t  | Peter\t      |Jackson    |\tNone\t      |20\n",
        "3\t  | Tom         |\tW         |\tNone        |20\n",
        "4\t  | Jack\t      |Patrick\t  | American    |30\n"
      ],
      "metadata": {
        "id": "Vygc9mSnoU-t"
      }
    },
    {
      "cell_type": "code",
      "source": [
        "%%sql\n",
        "INSERT INTO client_data VALUES\n",
        "(1, 'John', 'S', 'British', NULL),\n",
        "(2, 'Peter', 'Jackson', NULL, 20),\n",
        "(3, 'Tom', 'W', NULL, 20),\n",
        "(4, 'Jack', 'Patrick', 'American', 30);\n",
        "SELECT * FROM client_data;"
      ],
      "metadata": {
        "id": "StD7JBHrofnq",
        "colab": {
          "base_uri": "https://localhost:8080/",
          "height": 178
        },
        "outputId": "0d75a6a3-26b6-44a8-9d19-7c22a4e3e3fc"
      },
      "execution_count": null,
      "outputs": [
        {
          "output_type": "stream",
          "name": "stdout",
          "text": [
            " * sqlite:///weather.db\n",
            "4 rows affected.\n",
            "Done.\n"
          ]
        },
        {
          "output_type": "execute_result",
          "data": {
            "text/plain": [
              "[(1, 'John', 'S', 'British', None),\n",
              " (2, 'Peter', 'Jackson', None, 20),\n",
              " (3, 'Tom', 'W', None, 20),\n",
              " (4, 'Jack', 'Patrick', 'American', 30)]"
            ],
            "text/html": [
              "<table>\n",
              "    <thead>\n",
              "        <tr>\n",
              "            <th>ID</th>\n",
              "            <th>first_name</th>\n",
              "            <th>last_name</th>\n",
              "            <th>nationality</th>\n",
              "            <th>Age</th>\n",
              "        </tr>\n",
              "    </thead>\n",
              "    <tbody>\n",
              "        <tr>\n",
              "            <td>1</td>\n",
              "            <td>John</td>\n",
              "            <td>S</td>\n",
              "            <td>British</td>\n",
              "            <td>None</td>\n",
              "        </tr>\n",
              "        <tr>\n",
              "            <td>2</td>\n",
              "            <td>Peter</td>\n",
              "            <td>Jackson</td>\n",
              "            <td>None</td>\n",
              "            <td>20</td>\n",
              "        </tr>\n",
              "        <tr>\n",
              "            <td>3</td>\n",
              "            <td>Tom</td>\n",
              "            <td>W</td>\n",
              "            <td>None</td>\n",
              "            <td>20</td>\n",
              "        </tr>\n",
              "        <tr>\n",
              "            <td>4</td>\n",
              "            <td>Jack</td>\n",
              "            <td>Patrick</td>\n",
              "            <td>American</td>\n",
              "            <td>30</td>\n",
              "        </tr>\n",
              "    </tbody>\n",
              "</table>"
            ]
          },
          "metadata": {},
          "execution_count": 5
        }
      ]
    },
    {
      "cell_type": "markdown",
      "source": [
        "## Exercise 3\n",
        "Add a column called \"type\" to the Client_data table and fill the records of this column with the value '1' for the records where nationality is known, and '2' otherwise."
      ],
      "metadata": {
        "id": "kvzCq3UepDfm"
      }
    },
    {
      "cell_type": "code",
      "source": [
        "%%sql\n",
        "ALTER TABLE client_data ADD Type VARCHAR(40);\n",
        "UPDATE client_data SET Type = 1 WHERE nationality IS NOT NULL;\n",
        "UPDATE client_data SET Type = 2 WHERE nationality IS NULL;"
      ],
      "metadata": {
        "id": "cYeO4zMaryPS",
        "colab": {
          "base_uri": "https://localhost:8080/"
        },
        "outputId": "135c89ba-1120-4f59-b31c-6858b50c63c1"
      },
      "execution_count": null,
      "outputs": [
        {
          "output_type": "stream",
          "name": "stdout",
          "text": [
            " * sqlite:///weather.db\n",
            "Done.\n",
            "2 rows affected.\n",
            "2 rows affected.\n"
          ]
        },
        {
          "output_type": "execute_result",
          "data": {
            "text/plain": [
              "[]"
            ]
          },
          "metadata": {},
          "execution_count": 6
        }
      ]
    },
    {
      "cell_type": "markdown",
      "source": [
        "## Exercise 4\n",
        "Delete the records of the table client_data where the last name is unknown.\n",
        "Although we don’t have any fields with this constraint, we can still use:"
      ],
      "metadata": {
        "id": "PZnrabrDr1Bm"
      }
    },
    {
      "cell_type": "code",
      "source": [
        "%%sql\n",
        "DELETE FROM client_data where last_name IS NULL;"
      ],
      "metadata": {
        "id": "tIFVLVouMkSK",
        "colab": {
          "base_uri": "https://localhost:8080/"
        },
        "outputId": "4975e7a2-4964-4d91-d694-ef507b90938b"
      },
      "execution_count": null,
      "outputs": [
        {
          "output_type": "stream",
          "name": "stdout",
          "text": [
            " * sqlite:///weather.db\n",
            "0 rows affected.\n"
          ]
        },
        {
          "output_type": "execute_result",
          "data": {
            "text/plain": [
              "[]"
            ]
          },
          "metadata": {},
          "execution_count": 7
        }
      ]
    },
    {
      "cell_type": "markdown",
      "source": [
        "## Exercise 5\n",
        "Delete all the content from the column ‘Age’ **without** deleting the column from the schema."
      ],
      "metadata": {
        "id": "GCB5U6_8sEfC"
      }
    },
    {
      "cell_type": "code",
      "source": [
        "%%sql\n",
        "UPDATE client_data SET AGE = NULL;"
      ],
      "metadata": {
        "id": "NN2BIVfss2n1",
        "colab": {
          "base_uri": "https://localhost:8080/"
        },
        "outputId": "9474740c-fedc-4fd8-b2ac-c17da7d8d32a"
      },
      "execution_count": null,
      "outputs": [
        {
          "output_type": "stream",
          "name": "stdout",
          "text": [
            " * sqlite:///weather.db\n",
            "4 rows affected.\n"
          ]
        },
        {
          "output_type": "execute_result",
          "data": {
            "text/plain": [
              "[]"
            ]
          },
          "metadata": {},
          "execution_count": 8
        }
      ]
    },
    {
      "cell_type": "markdown",
      "source": [
        "## Exercise 6\n",
        "Delete table client_data including the schema.\n",
        "\n"
      ],
      "metadata": {
        "id": "Q5gDXv_Vpyb7"
      }
    },
    {
      "cell_type": "code",
      "source": [
        "%%sql\n",
        "DROP TABLE client_data;"
      ],
      "metadata": {
        "id": "NihNzD_NrTJ6",
        "colab": {
          "base_uri": "https://localhost:8080/"
        },
        "outputId": "3f319bb2-9e47-4d79-f19c-211e2c4fc77a"
      },
      "execution_count": null,
      "outputs": [
        {
          "output_type": "stream",
          "name": "stdout",
          "text": [
            " * sqlite:///weather.db\n",
            "Done.\n"
          ]
        },
        {
          "output_type": "execute_result",
          "data": {
            "text/plain": [
              "[]"
            ]
          },
          "metadata": {},
          "execution_count": 9
        }
      ]
    },
    {
      "cell_type": "markdown",
      "source": [
        "# PART 2\n",
        "\n",
        "## Exercise 1\n",
        "There are many records in the table `cat_locations` where the country column is null. Fill these records with the value `\"UK\"`."
      ],
      "metadata": {
        "id": "p43wpcolECBH"
      }
    },
    {
      "cell_type": "code",
      "source": [
        "%%sql\n",
        "SELECT * from cat_locations WHERE Country IS NULL LIMIT 5;"
      ],
      "metadata": {
        "id": "juhrKvXiEK9f",
        "colab": {
          "base_uri": "https://localhost:8080/",
          "height": 271
        },
        "outputId": "174940e8-d9e2-42f2-978c-7b7a75417a71"
      },
      "execution_count": null,
      "outputs": [
        {
          "output_type": "stream",
          "name": "stdout",
          "text": [
            " * sqlite:///weather.db\n",
            "Done.\n"
          ]
        },
        {
          "output_type": "execute_result",
          "data": {
            "text/plain": [
              "[(3, 'Southampton Airport', None, None, 'se', 'South East', 50.9503, -1.3567, 'Europe', 11.0, '', 'Hampshire'),\n",
              " (5, 'London City Airport', None, None, 'se', 'South East', 51.5048, 0.058, 'Europe', 5.0, '', 'Greater London'),\n",
              " (6, 'Lydd', None, None, 'se', 'South East', 50.9561, 0.9392, 'Europe', 4.0, '', 'Kent'),\n",
              " (7, 'Cranfield', None, None, 'ee', 'East of England', 52.0703, -0.6267, 'Europe', 109.0, '', 'Central Bedfordshire'),\n",
              " (8, 'Belfast Harbour', None, None, 'ni', 'Northern Ireland', 54.613, -5.877, 'Europe', 5.0, '', 'County Antrim')]"
            ],
            "text/html": [
              "<table>\n",
              "    <thead>\n",
              "        <tr>\n",
              "            <th>LocationID</th>\n",
              "            <th>Location</th>\n",
              "            <th>PostCode</th>\n",
              "            <th>Country</th>\n",
              "            <th>Region</th>\n",
              "            <th>region_description</th>\n",
              "            <th>Latitude</th>\n",
              "            <th>Longitude</th>\n",
              "            <th>Continent</th>\n",
              "            <th>Elevation</th>\n",
              "            <th>nationalPark</th>\n",
              "            <th>unitaryAuthArea</th>\n",
              "        </tr>\n",
              "    </thead>\n",
              "    <tbody>\n",
              "        <tr>\n",
              "            <td>3</td>\n",
              "            <td>Southampton Airport</td>\n",
              "            <td>None</td>\n",
              "            <td>None</td>\n",
              "            <td>se</td>\n",
              "            <td>South East</td>\n",
              "            <td>50.9503</td>\n",
              "            <td>-1.3567</td>\n",
              "            <td>Europe</td>\n",
              "            <td>11.0</td>\n",
              "            <td></td>\n",
              "            <td>Hampshire</td>\n",
              "        </tr>\n",
              "        <tr>\n",
              "            <td>5</td>\n",
              "            <td>London City Airport</td>\n",
              "            <td>None</td>\n",
              "            <td>None</td>\n",
              "            <td>se</td>\n",
              "            <td>South East</td>\n",
              "            <td>51.5048</td>\n",
              "            <td>0.058</td>\n",
              "            <td>Europe</td>\n",
              "            <td>5.0</td>\n",
              "            <td></td>\n",
              "            <td>Greater London</td>\n",
              "        </tr>\n",
              "        <tr>\n",
              "            <td>6</td>\n",
              "            <td>Lydd</td>\n",
              "            <td>None</td>\n",
              "            <td>None</td>\n",
              "            <td>se</td>\n",
              "            <td>South East</td>\n",
              "            <td>50.9561</td>\n",
              "            <td>0.9392</td>\n",
              "            <td>Europe</td>\n",
              "            <td>4.0</td>\n",
              "            <td></td>\n",
              "            <td>Kent</td>\n",
              "        </tr>\n",
              "        <tr>\n",
              "            <td>7</td>\n",
              "            <td>Cranfield</td>\n",
              "            <td>None</td>\n",
              "            <td>None</td>\n",
              "            <td>ee</td>\n",
              "            <td>East of England</td>\n",
              "            <td>52.0703</td>\n",
              "            <td>-0.6267</td>\n",
              "            <td>Europe</td>\n",
              "            <td>109.0</td>\n",
              "            <td></td>\n",
              "            <td>Central Bedfordshire</td>\n",
              "        </tr>\n",
              "        <tr>\n",
              "            <td>8</td>\n",
              "            <td>Belfast Harbour</td>\n",
              "            <td>None</td>\n",
              "            <td>None</td>\n",
              "            <td>ni</td>\n",
              "            <td>Northern Ireland</td>\n",
              "            <td>54.613</td>\n",
              "            <td>-5.877</td>\n",
              "            <td>Europe</td>\n",
              "            <td>5.0</td>\n",
              "            <td></td>\n",
              "            <td>County Antrim</td>\n",
              "        </tr>\n",
              "    </tbody>\n",
              "</table>"
            ]
          },
          "metadata": {},
          "execution_count": 10
        }
      ]
    },
    {
      "cell_type": "code",
      "source": [
        "%%sql\n",
        "UPDATE cat_locations SET Country = 'UK' where Country IS NULL;"
      ],
      "metadata": {
        "id": "ESXV2gRdy9qD",
        "outputId": "b4614a8a-539e-4be9-bc70-728bea37a3c2",
        "colab": {
          "base_uri": "https://localhost:8080/"
        }
      },
      "execution_count": null,
      "outputs": [
        {
          "output_type": "stream",
          "name": "stdout",
          "text": [
            " * sqlite:///weather.db\n",
            "5968 rows affected.\n"
          ]
        },
        {
          "output_type": "execute_result",
          "data": {
            "text/plain": [
              "[]"
            ]
          },
          "metadata": {},
          "execution_count": 12
        }
      ]
    },
    {
      "cell_type": "code",
      "source": [
        "%%sql\n",
        "SELECT * from cat_locations WHERE Country IS NULL;"
      ],
      "metadata": {
        "id": "GLAjE6AszE0p",
        "outputId": "03d4f4ca-9845-4cf3-e980-98590e86fa09",
        "colab": {
          "base_uri": "https://localhost:8080/",
          "height": 95
        }
      },
      "execution_count": null,
      "outputs": [
        {
          "output_type": "stream",
          "name": "stdout",
          "text": [
            " * sqlite:///weather.db\n",
            "Done.\n"
          ]
        },
        {
          "output_type": "execute_result",
          "data": {
            "text/plain": [
              "[]"
            ],
            "text/html": [
              "<table>\n",
              "    <thead>\n",
              "        <tr>\n",
              "            <th>LocationID</th>\n",
              "            <th>Location</th>\n",
              "            <th>PostCode</th>\n",
              "            <th>Country</th>\n",
              "            <th>Region</th>\n",
              "            <th>region_description</th>\n",
              "            <th>Latitude</th>\n",
              "            <th>Longitude</th>\n",
              "            <th>Continent</th>\n",
              "            <th>Elevation</th>\n",
              "            <th>nationalPark</th>\n",
              "            <th>unitaryAuthArea</th>\n",
              "        </tr>\n",
              "    </thead>\n",
              "    <tbody>\n",
              "    </tbody>\n",
              "</table>"
            ]
          },
          "metadata": {},
          "execution_count": 13
        }
      ]
    },
    {
      "cell_type": "markdown",
      "source": [
        "\n",
        "## Exercise 2\n",
        "Delete the rows from table `tempW` where rainfall is `null`"
      ],
      "metadata": {
        "id": "7mjjR3GlEPic"
      }
    },
    {
      "cell_type": "code",
      "source": [
        "%%sql\n",
        "DELETE FROM tempW WHERE rainfall IS NULL;"
      ],
      "metadata": {
        "id": "a52m1u8wER3u",
        "colab": {
          "base_uri": "https://localhost:8080/"
        },
        "outputId": "291a88d3-d6ea-46dc-fb56-5831a0c72271"
      },
      "execution_count": null,
      "outputs": [
        {
          "output_type": "stream",
          "name": "stdout",
          "text": [
            " * sqlite:///weather.db\n",
            "4 rows affected.\n"
          ]
        },
        {
          "output_type": "execute_result",
          "data": {
            "text/plain": [
              "[]"
            ]
          },
          "metadata": {},
          "execution_count": 14
        }
      ]
    },
    {
      "cell_type": "markdown",
      "source": [
        "## Exercise 3\n",
        "From this table also delete the `timestamp` column from the schema."
      ],
      "metadata": {
        "id": "WhYHEnibESl6"
      }
    },
    {
      "cell_type": "code",
      "source": [
        "%%sql\n",
        "ALTER TABLE tempW DROP timestamp;"
      ],
      "metadata": {
        "id": "MErTbR9METEe",
        "colab": {
          "base_uri": "https://localhost:8080/"
        },
        "outputId": "accf3f97-6399-4095-8967-22f8e6e94f9c"
      },
      "execution_count": null,
      "outputs": [
        {
          "output_type": "stream",
          "name": "stdout",
          "text": [
            " * sqlite:///weather.db\n",
            "Done.\n"
          ]
        },
        {
          "output_type": "execute_result",
          "data": {
            "text/plain": [
              "[]"
            ]
          },
          "metadata": {},
          "execution_count": 15
        }
      ]
    },
    {
      "cell_type": "code",
      "source": [
        "%%sql\n",
        "SELECT * FROM tempW LIMIT 3;"
      ],
      "metadata": {
        "id": "TDOFg8bmzWD1",
        "outputId": "03ffa284-78f8-4696-d915-676debbd9f15",
        "colab": {
          "base_uri": "https://localhost:8080/",
          "height": 211
        }
      },
      "execution_count": null,
      "outputs": [
        {
          "output_type": "stream",
          "name": "stdout",
          "text": [
            " * sqlite:///weather.db\n",
            "Done.\n"
          ]
        },
        {
          "output_type": "execute_result",
          "data": {
            "text/plain": [
              "[(3672, '2015-02-20 00:00:00', '2015-02-20', '00:00:00', 6.8, 6, 94.1, 0.0, 0, 0, 0, '220', '\\\\N', '0.6', 0.0),\n",
              " (3672, '2015-02-20 01:00:00', '2015-02-20', '01:00:00', 6.7, 7, 95.5, 0.0, 0, 0, 0, '220', '\\\\N', '0.2', 0.0),\n",
              " (3672, '2015-02-20 02:00:00', '2015-02-20', '02:00:00', 6.5, 5, 95.5, 0.0, 0, 0, 0, '230', '\\\\N', '0.2', 0.0)]"
            ],
            "text/html": [
              "<table>\n",
              "    <thead>\n",
              "        <tr>\n",
              "            <th>LocationId</th>\n",
              "            <th>obs_dateTime</th>\n",
              "            <th>obs_date</th>\n",
              "            <th>obs_time</th>\n",
              "            <th>temperature</th>\n",
              "            <th>windspeed</th>\n",
              "            <th>humidity</th>\n",
              "            <th>dewpoint</th>\n",
              "            <th>pressure</th>\n",
              "            <th>windgust</th>\n",
              "            <th>visibility</th>\n",
              "            <th>winddirection</th>\n",
              "            <th>pressuretendency</th>\n",
              "            <th>rainfall</th>\n",
              "            <th>radiation</th>\n",
              "        </tr>\n",
              "    </thead>\n",
              "    <tbody>\n",
              "        <tr>\n",
              "            <td>3672</td>\n",
              "            <td>2015-02-20 00:00:00</td>\n",
              "            <td>2015-02-20</td>\n",
              "            <td>00:00:00</td>\n",
              "            <td>6.8</td>\n",
              "            <td>6</td>\n",
              "            <td>94.1</td>\n",
              "            <td>0.0</td>\n",
              "            <td>0</td>\n",
              "            <td>0</td>\n",
              "            <td>0</td>\n",
              "            <td>220</td>\n",
              "            <td>\\N</td>\n",
              "            <td>0.6</td>\n",
              "            <td>0.0</td>\n",
              "        </tr>\n",
              "        <tr>\n",
              "            <td>3672</td>\n",
              "            <td>2015-02-20 01:00:00</td>\n",
              "            <td>2015-02-20</td>\n",
              "            <td>01:00:00</td>\n",
              "            <td>6.7</td>\n",
              "            <td>7</td>\n",
              "            <td>95.5</td>\n",
              "            <td>0.0</td>\n",
              "            <td>0</td>\n",
              "            <td>0</td>\n",
              "            <td>0</td>\n",
              "            <td>220</td>\n",
              "            <td>\\N</td>\n",
              "            <td>0.2</td>\n",
              "            <td>0.0</td>\n",
              "        </tr>\n",
              "        <tr>\n",
              "            <td>3672</td>\n",
              "            <td>2015-02-20 02:00:00</td>\n",
              "            <td>2015-02-20</td>\n",
              "            <td>02:00:00</td>\n",
              "            <td>6.5</td>\n",
              "            <td>5</td>\n",
              "            <td>95.5</td>\n",
              "            <td>0.0</td>\n",
              "            <td>0</td>\n",
              "            <td>0</td>\n",
              "            <td>0</td>\n",
              "            <td>230</td>\n",
              "            <td>\\N</td>\n",
              "            <td>0.2</td>\n",
              "            <td>0.0</td>\n",
              "        </tr>\n",
              "    </tbody>\n",
              "</table>"
            ]
          },
          "metadata": {},
          "execution_count": 16
        }
      ]
    }
  ]
}